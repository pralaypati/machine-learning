{
  "nbformat": 4,
  "nbformat_minor": 0,
  "metadata": {
    "colab": {
      "name": "Question_2(iv).ipynb",
      "provenance": [],
      "collapsed_sections": []
    },
    "kernelspec": {
      "name": "python3",
      "display_name": "Python 3"
    },
    "language_info": {
      "name": "python"
    }
  },
  "cells": [
    {
      "cell_type": "markdown",
      "source": [
        "### Gradient descent algorithm for ridge regression"
      ],
      "metadata": {
        "id": "hObfM3XvL29Y"
      }
    },
    {
      "cell_type": "code",
      "source": [
        "import pandas as pd\n",
        "import numpy as np\n",
        "import matplotlib.pyplot as plt\n",
        "from sklearn.metrics import r2_score\n",
        "\n",
        "train_df = pd.read_csv(\"/content/A2Q2Data_train.csv\", header=None);\n",
        "train_data_set = train_df.iloc[:].values\n",
        "train_features = train_data_set[:, :-1] # for all but last column\n",
        "train_label = train_data_set[:, -1] # for last column\n",
        "\n",
        "#Load test data\n",
        "test_df = pd.read_csv(\"/content/A2Q2Data_test.csv\", header=None);\n",
        "test_data_set = test_df.iloc[:].values\n",
        "test_features = test_data_set[:, :-1] # for all but last column\n",
        "test_label = test_data_set[:, -1] # for last column\n",
        "\n",
        "#Hyper parameters\n",
        "lr = 0.001 #learning rate\n",
        "epochs = 10000\n",
        "num_folds = 10\n",
        "\n",
        "def get_W_ml(X, y):\n",
        "  XtX = np.matmul(X.T, X)\n",
        "\n",
        "  XtX_inverse = np.linalg.inv(XtX)\n",
        "  W_ml = np.matmul(np.matmul(XtX_inverse, X.T), y)\n",
        "\n",
        "  return W_ml\n",
        "\n",
        "def ridge_regression(train_X, train_y, lambda_penality) :\n",
        "\n",
        "  num_data_points = train_X.shape[0]\n",
        "  num_features = train_X.shape[1]\n",
        "\n",
        "  train_XtX = np.matmul(train_X.T, train_X)\n",
        "  W = np.zeros((num_features))\n",
        "  for i in np.arange(epochs):\n",
        "\n",
        "    grad_f = ( 2*(np.matmul(train_XtX, W) - np.matmul(train_X.T, train_y)) + 2*lambda_penality*W  ) / num_data_points  \n",
        "    next_W = W - lr * grad_f\n",
        "    W = next_W\n",
        "\n",
        "  return W\n",
        "\n",
        "def k_fold_validation(dataset, lambda_penality):\n",
        "  \n",
        "  dataset_copy = dataset.copy()\n",
        "  np.random.shuffle(dataset_copy)\n",
        "  folds = np.split(dataset_copy, num_folds, axis = 0)\n",
        "\n",
        "  avg_err_all = []\n",
        "  for i in range(num_folds):\n",
        "    \n",
        "    testset = folds[i].copy()\n",
        "\n",
        "    initialized = False\n",
        "    for j in range(num_folds):\n",
        "      if j == i:\n",
        "        continue\n",
        "      \n",
        "      if initialized == False:\n",
        "        trainset = folds[j].copy()\n",
        "        initialized = True\n",
        "      else:\n",
        "        trainset = np.concatenate((trainset, folds[j]), axis=0)\n",
        "    \n",
        "    train_X = trainset[:, :-1]\n",
        "    train_y = trainset[:, -1]\n",
        "    model = ridge_regression(train_X, train_y, lambda_penality)\n",
        "\n",
        "    test_X = testset[:, :-1]\n",
        "    test_y = testset[:, -1]\n",
        "\n",
        "    #print(r2_score(test_y, np.matmul(test_X, model)))\n",
        "    err = np.matmul(test_X, model) - test_y\n",
        "    avg_err_all.append(np.dot(err,err))\n",
        "\n",
        "  return np.average(avg_err_all)\n",
        "\n",
        "W_ml = get_W_ml(train_features, train_label)\n",
        "\n",
        "#perfrom K fold cross validation\n",
        "err_all = []\n",
        "penalties = np.arange(0.5, 10.5, 0.5)\n",
        "for lambda_penality in penalties:\n",
        "  print('Running for ' + str(lambda_penality))\n",
        "  error = k_fold_validation(train_data_set, lambda_penality)\n",
        "  err_all.append(error)\n",
        "\n",
        "#Get best lambda\n",
        "sorted_index = np.argsort(err_all)\n",
        "sorted_penalties = penalties[sorted_index]\n",
        "\n",
        "print(sorted_index, sorted_penalties[0])\n",
        "\n",
        "#Get W_r for best lambda\n",
        "W_r = ridge_regression(train_features, train_label, sorted_penalties[0])\n",
        "\n",
        "#Calculate error for test data using W_ml & W_ridge\n",
        "w_ml_err_vector = np.matmul(test_features, W_ml) - test_label\n",
        "w_ridge_err_vector = np.matmul(test_features, W_r) - test_label\n",
        "\n",
        "w_ml_err = np.dot(w_ml_err_vector, w_ml_err_vector)\n",
        "w_ridge_err = np.dot(w_ridge_err_vector, w_ridge_err_vector)\n",
        "\n",
        "print('Using w_ml: r2 score: %.4f, test error: %.4f'%(r2_score(train_label, np.matmul(train_features, W_ml)), w_ml_err))\n",
        "print('Using w_ridge: r2 score: %.4f, test error: %.4f'%(r2_score(train_label, np.matmul(train_features, W_r)), w_ridge_err))\n",
        "\n",
        "plt.figure(figsize=(8, 5))\n",
        "plt.plot(penalties, err_all, 'o-')\n",
        "plt.title('Plot of Validation Error vs Lambda')\n",
        "plt.xlabel('Lambda')\n",
        "plt.ylabel('Validation Error')\n",
        "plt.grid()\n",
        "plt.show()"
      ],
      "metadata": {
        "colab": {
          "base_uri": "https://localhost:8080/",
          "height": 749
        },
        "id": "bt-1Bp61M7sr",
        "outputId": "4d548723-f16b-4057-cf5d-fb23c149276c"
      },
      "execution_count": null,
      "outputs": [
        {
          "output_type": "stream",
          "name": "stdout",
          "text": [
            "Running for 0.5\n",
            "Running for 1.0\n",
            "Running for 1.5\n",
            "Running for 2.0\n",
            "Running for 2.5\n",
            "Running for 3.0\n",
            "Running for 3.5\n",
            "Running for 4.0\n",
            "Running for 4.5\n",
            "Running for 5.0\n",
            "Running for 5.5\n",
            "Running for 6.0\n",
            "Running for 6.5\n",
            "Running for 7.0\n",
            "Running for 7.5\n",
            "Running for 8.0\n",
            "Running for 8.5\n",
            "Running for 9.0\n",
            "Running for 9.5\n",
            "Running for 10.0\n",
            "[ 1  2  0  4  5  3  6  7  8 11 10  9 14 15 13 16 18 12 19 17] 1.0\n",
            "Using w_ml: r2 score: 0.8455, test error: 185.3637\n",
            "Using w_ridge: r2 score: 0.8158, test error: 155.3971\n"
          ]
        },
        {
          "output_type": "display_data",
          "data": {
            "text/plain": [
              "<Figure size 576x360 with 1 Axes>"
            ],
            "image/png": "[encoded data removed]"
          },
          "metadata": {
            "needs_background": "light"
          }
        }
      ]
    },
    {
      "cell_type": "code",
      "source": [
        "w_ml_err_vector_train = np.matmul(train_features, W_ml) - train_label\n",
        "w_ridge_err_vector_train = np.matmul(train_features, W_r) - train_label\n",
        "\n",
        "w_ml_err_train = np.dot(w_ml_err_vector_train, w_ml_err_vector_train)\n",
        "w_ridge_err_train = np.dot(w_ridge_err_vector_train, w_ridge_err_vector_train)\n",
        "\n",
        "print('W_ml train error: %.3f, W_r train error: %.3f'%(w_ml_err_train, w_ridge_err_train))"
      ],
      "metadata": {
        "colab": {
          "base_uri": "https://localhost:8080/"
        },
        "id": "hT2gs_4sewRU",
        "outputId": "87047c74-5019-4348-a093-ab187574b31c"
      },
      "execution_count": null,
      "outputs": [
        {
          "output_type": "stream",
          "name": "stdout",
          "text": [
            "W_ml train error: 396.864, W_r train error: 473.030\n"
          ]
        }
      ]
    }
  ]
}