{
  "nbformat": 4,
  "nbformat_minor": 0,
  "metadata": {
    "colab": {
      "name": "email_classifier.ipynb",
      "provenance": [],
      "collapsed_sections": []
    },
    "kernelspec": {
      "name": "python3",
      "display_name": "Python 3"
    },
    "language_info": {
      "name": "python"
    }
  },
  "cells": [
    {
      "cell_type": "markdown",
      "source": [
        "### Import the libraries and download the required nltk data set"
      ],
      "metadata": {
        "id": "d4F0FD0YIyLg"
      }
    },
    {
      "cell_type": "code",
      "source": [
        "import string\n",
        "import numpy as np\n",
        "from collections import Counter, defaultdict\n",
        "from sklearn import svm\n",
        "from scipy import sparse\n",
        "\n",
        "import nltk\n",
        "nltk.download('stopwords')\n",
        "from nltk.corpus import stopwords\n",
        "from nltk.stem import WordNetLemmatizer\n",
        "nltk.download('wordnet')\n",
        "from nltk.tokenize import TreebankWordTokenizer\n",
        "nltk.download('punkt')\n",
        "\n",
        "import tarfile\n",
        "import zipfile\n",
        "\n",
        "import os\n",
        "import pandas as pd\n",
        "pd.options.mode.chained_assignment = None  # default='warn'"
      ],
      "metadata": {
        "colab": {
          "base_uri": "https://localhost:8080/"
        },
        "id": "ojKMxmR2nvQw",
        "outputId": "a24040bb-63a5-4872-cd89-6e819b2a68cb"
      },
      "execution_count": null,
      "outputs": [
        {
          "output_type": "stream",
          "name": "stdout",
          "text": [
            "[nltk_data] Downloading package stopwords to /root/nltk_data...\n",
            "[nltk_data]   Unzipping corpora/stopwords.zip.\n",
            "[nltk_data] Downloading package wordnet to /root/nltk_data...\n",
            "[nltk_data]   Unzipping corpora/wordnet.zip.\n",
            "[nltk_data] Downloading package punkt to /root/nltk_data...\n",
            "[nltk_data]   Unzipping tokenizers/punkt.zip.\n"
          ]
        }
      ]
    },
    {
      "cell_type": "markdown",
      "source": [
        "### Download the data set and extract. Extract test data also (if already uploaded)"
      ],
      "metadata": {
        "id": "Ua2DxgUcJAG0"
      }
    },
    {
      "cell_type": "code",
      "source": [
        "file_name = 'lingspam_public.tar.gz'\n",
        "file_path = '/content/'+ file_name\n",
        "if os.path.exists(file_path) == False :\n",
        "  !wget http://www.aueb.gr/users/ion/data/lingspam_public.tar.gz --no-check-certificate\n",
        "\n",
        "  # open file\n",
        "  tar_file = tarfile.open(file_path)\n",
        "\n",
        "  tar_file.extractall('/content')\n",
        "\n",
        "test_zip_file = '/content/test.zip'\n",
        "if os.path.exists(test_zip_file) == True :\n",
        "  with zipfile.ZipFile(test_zip_file, 'r') as zip_ref:\n",
        "    zip_ref.extractall('/content')"
      ],
      "metadata": {
        "id": "CaIvpe04-OsN",
        "colab": {
          "base_uri": "https://localhost:8080/"
        },
        "outputId": "ac5d0e26-c861-4225-c82a-d80d857e0776"
      },
      "execution_count": null,
      "outputs": [
        {
          "output_type": "stream",
          "name": "stdout",
          "text": [
            "--2022-04-16 04:33:51--  http://www.aueb.gr/users/ion/data/lingspam_public.tar.gz\n",
            "Resolving www.aueb.gr (www.aueb.gr)... 195.251.255.156\n",
            "Connecting to www.aueb.gr (www.aueb.gr)|195.251.255.156|:80... connected.\n",
            "HTTP request sent, awaiting response... 301 Moved Permanently\n",
            "Location: http://www2.aueb.gr/users/ion/data/lingspam_public.tar.gz [following]\n",
            "--2022-04-16 04:33:52--  http://www2.aueb.gr/users/ion/data/lingspam_public.tar.gz\n",
            "Resolving www2.aueb.gr (www2.aueb.gr)... 195.251.255.230\n",
            "Connecting to www2.aueb.gr (www2.aueb.gr)|195.251.255.230|:80... connected.\n",
            "HTTP request sent, awaiting response... 301 Moved Permanently\n",
            "Location: https://www2.aueb.gr/users/ion/data/lingspam_public.tar.gz [following]\n",
            "--2022-04-16 04:33:53--  https://www2.aueb.gr/users/ion/data/lingspam_public.tar.gz\n",
            "Connecting to www2.aueb.gr (www2.aueb.gr)|195.251.255.230|:443... connected.\n",
            "WARNING: cannot verify www2.aueb.gr's certificate, issued by ‘CN=GEANT OV RSA CA 4,O=GEANT Vereniging,C=NL’:\n",
            "  Unable to locally verify the issuer's authority.\n",
            "HTTP request sent, awaiting response... 200 OK\n",
            "Length: 11564714 (11M) [application/x-gzip]\n",
            "Saving to: ‘lingspam_public.tar.gz’\n",
            "\n",
            "lingspam_public.tar 100%[===================>]  11.03M  3.39MB/s    in 3.3s    \n",
            "\n",
            "2022-04-16 04:33:58 (3.39 MB/s) - ‘lingspam_public.tar.gz’ saved [11564714/11564714]\n",
            "\n"
          ]
        }
      ]
    },
    {
      "cell_type": "markdown",
      "source": [
        "### Class definition for the classifier"
      ],
      "metadata": {
        "id": "_7JIzIzdJL_g"
      }
    },
    {
      "cell_type": "code",
      "source": [
        "class EmailClassifier(object):\n",
        "\n",
        "  def __init__(self, kernels, penalties, max_df =1.0):\n",
        "    self.max_df = max_df # to remove corpus specific stop words\n",
        "    self.tokenizer = TreebankWordTokenizer()\n",
        "    self.lemmatizer = WordNetLemmatizer()\n",
        "\n",
        "    self.stop_words = stopwords.words('english')\n",
        "    punctuations = list(string.punctuation)\n",
        "    self.stop_words += punctuations # used for removing stopwords and punctuations\n",
        "\n",
        "    self.kernels = kernels\n",
        "    self.penalties = penalties\n",
        "\n",
        "  def __pre_process_text(self, data_df):\n",
        "    data_df['text'] = data_df['text'].apply(lambda x: ' '.join([word for word \\\n",
        "                                                in self.tokenizer.tokenize(str(x).replace('\\\\n', ' ')) ]))\n",
        "    data_df['text'] = data_df['text'].apply(lambda x: ' '.join([self.lemmatizer.lemmatize(word.lower()) \\\n",
        "                                                for word in x.split(' ')]))\n",
        "    data_df['text'] = data_df['text'].apply(lambda x: ' '.join([word for word in x.split(' ')\\\n",
        "                                                        if word not in (self.stop_words)]))\n",
        "    return data_df\n",
        "\n",
        "  def __get_vocab(self, df):\n",
        "    num_docs = len(df)\n",
        "\n",
        "    document_freq = defaultdict(int)\n",
        "    \n",
        "    for i in range(num_docs):\n",
        "\n",
        "      words = df.iloc[i, 1].split(' ')\n",
        "\n",
        "      for word in set(words):\n",
        "        if(len(word) > 2):\n",
        "          document_freq[word] += 1\n",
        "\n",
        "    unique_words = set([word for word in list(document_freq) if (document_freq[word]/num_docs) <= self.max_df])\n",
        "    sorted_words = sorted(unique_words)\n",
        "    self.vocab = {}\n",
        "    for index, word in enumerate(sorted_words):\n",
        "      self.vocab[word] = index\n",
        "\n",
        "  def __get_feature_matrix(self, df, generate_vocab=True):\n",
        "    \n",
        "    if generate_vocab==True:\n",
        "      self.__get_vocab(df)\n",
        "\n",
        "    num_docs = len(df) \n",
        "\n",
        "    row, col, val = [], [], []\n",
        "\n",
        "    for i in range(num_docs):\n",
        "      words = df.iloc[i, 1].split(' ')\n",
        "\n",
        "      word_count_dict = dict(Counter(words))\n",
        "\n",
        "      for word, count in word_count_dict.items():\n",
        "        \n",
        "        if(len(word) > 2):\n",
        "          col_idx = self.vocab.get(word, -1)\n",
        "          if col_idx >= 0:\n",
        "            row.append(i)\n",
        "            col.append(col_idx)\n",
        "            val.append(count)\n",
        "    \n",
        "    return sparse.csr_matrix( (val, (row, col)), shape=(num_docs, len(self.vocab)) )\n",
        "\n",
        "  def __do_k_fold_validation(self, train_dataset_df, kernel, penalty, num_folds=10):\n",
        "    \n",
        "    avg_score_all = []\n",
        "    df_list = np.array_split(train_dataset_df, num_folds)\n",
        "    for i in range(num_folds):\n",
        "      test_df = df_list[i]\n",
        "\n",
        "      train_df_list = []\n",
        "      for j in range(num_folds):\n",
        "        if j != i:\n",
        "          train_df_list.append(df_list[j])\n",
        "\n",
        "      train_df = pd.concat(train_df_list)\n",
        "\n",
        "      train_feature_matrix = self.__get_feature_matrix(train_df)\n",
        "\n",
        "      svm_classifier = svm.SVC(C=penalty, kernel=kernel)\n",
        "      svm_classifier.fit(train_feature_matrix, train_df['label'].values)\n",
        "\n",
        "      test_feature_matrix = self.__get_feature_matrix(test_df, generate_vocab=False)\n",
        "      score = svm_classifier.score(test_feature_matrix, test_df['label'].values)\n",
        "      avg_score_all.append(score)\n",
        "    \n",
        "    return np.average(avg_score_all)\n",
        "\n",
        "\n",
        "  def fit(self, train_dataset_df, num_folds=10):\n",
        "\n",
        "    train_dataset_df = self.__pre_process_text(train_dataset_df)\n",
        "\n",
        "    self.parameters = []    \n",
        "    for kernel in self.kernels :        \n",
        "        for penalty in self.penalties :            \n",
        "            self.parameters.append(( kernel, penalty ))\n",
        "\n",
        "    self.score_all = []\n",
        "    for kernel, penalty in self.parameters:\n",
        "      print('Cross validating for {} and {}'.format(kernel, penalty))\n",
        "      score = self.__do_k_fold_validation(train_dataset_df, kernel, penalty, num_folds)\n",
        "      self.score_all.append(score)\n",
        "    \n",
        "    sort_index = np.argsort(self.score_all)\n",
        "    sorted_parameters = np.array(self.parameters)[sort_index]\n",
        "\n",
        "    self.best_kernel, self.best_penalty = sorted_parameters[-1] #based on max score\n",
        "\n",
        "    train_feature_matrix = self.__get_feature_matrix(train_dataset_df)\n",
        "    self.svm_classifier = svm.SVC(C=float(self.best_penalty), kernel=self.best_kernel)\n",
        "    self.svm_classifier.fit(train_feature_matrix, train_dataset_df['label'].values)\n",
        "\n",
        "  def get_params(self):\n",
        "    return self.parameters, self.score_all, self.best_kernel, self.best_penalty\n",
        "\n",
        "  def fit_without_CV(self, input_dataset_df):\n",
        "\n",
        "    msk = np.random.rand(len(input_dataset_df)) < 0.8\n",
        "    train_df = input_dataset_df[msk]\n",
        "    test_df = input_dataset_df[~msk]\n",
        "\n",
        "    train_df = self.__pre_process_text(train_df)\n",
        "    test_df = self.__pre_process_text(test_df)\n",
        "\n",
        "    train_feature_matrix = self.__get_feature_matrix(train_df)\n",
        "\n",
        "    self.svm_classifier = svm.SVC(C=16)\n",
        "    self.svm_classifier.fit(train_feature_matrix, train_df['label'].values)\n",
        "\n",
        "    test_feature_matrix = self.__get_feature_matrix(test_df, generate_vocab=False)\n",
        "    print(self.svm_classifier.score(test_feature_matrix, test_df['label'].values))\n",
        "    print(self.svm_classifier.get_params())\n",
        "\n",
        "  def predict(self, test_dataset_df):\n",
        "    test_df = self.__pre_process_text(test_dataset_df)\n",
        "    test_feature_matrix = self.__get_feature_matrix(test_df, generate_vocab=False)\n",
        "\n",
        "    return(self.svm_classifier.predict(test_feature_matrix))"
      ],
      "metadata": {
        "id": "FAmV8A_o32fr"
      },
      "execution_count": null,
      "outputs": []
    },
    {
      "cell_type": "markdown",
      "source": [
        "### Read the data set and run the classifier"
      ],
      "metadata": {
        "id": "VIy38cYEJSiO"
      }
    },
    {
      "cell_type": "code",
      "source": [
        "def read_dataset():\n",
        "  dataset_folder = 'lingspam_public/bare'\n",
        "\n",
        "  dataset_df = pd.DataFrame(columns = ['label', 'text'])\n",
        "\n",
        "  for root, subdirs, files in os.walk('/content/'+ dataset_folder):\n",
        "    for filename in files:\n",
        "\n",
        "      file_path = os.path.join(root, filename)\n",
        "      with open(file_path, 'r') as f:\n",
        "        f_content = f.read()\n",
        "        if filename.startswith('spmsg'):\n",
        "          dataset_df.loc[len(dataset_df.index)] = ['1', f_content]\n",
        "        else:\n",
        "          dataset_df.loc[len(dataset_df.index)] = ['0', f_content]\n",
        "  \n",
        "  return dataset_df \n",
        "\n",
        "kernels = ['linear', 'poly', 'rbf', 'sigmoid']\n",
        "#kernels = ['poly', 'rbf']\n",
        "penalties = range(1, 20, 1)\n",
        "\n",
        "input_dataset_df = read_dataset()\n",
        "email_classifier = EmailClassifier(kernels, penalties)\n",
        "email_classifier.fit(input_dataset_df)\n",
        "parameters, scores, best_kernel, best_penalty = email_classifier.get_params()\n",
        "#print(parameters, scores, best_kernel, best_penalty)"
      ],
      "metadata": {
        "id": "EOMwRLdVk5Mr"
      },
      "execution_count": null,
      "outputs": []
    },
    {
      "cell_type": "markdown",
      "source": [
        "### Plot the cross validation data"
      ],
      "metadata": {
        "id": "z8XVm1pbJfsp"
      }
    },
    {
      "cell_type": "code",
      "source": [
        "import matplotlib.pyplot as plt\n",
        "\n",
        "plot_dict ={}\n",
        "for i in range(len(parameters)):\n",
        "  kernel, _ = parameters[i]\n",
        "\n",
        "  if kernel not in plot_dict:\n",
        "    plot_dict[kernel] = []\n",
        "\n",
        "  plot_dict[kernel].append(scores[i])\n",
        "\n",
        "#print(plot_dict)\n",
        "\n",
        "plt.figure(figsize=(8, 5))\n",
        "for key in plot_dict:\n",
        "  plt.plot(penalties, plot_dict[key], 'o-', label=key)\n",
        "  \n",
        "plt.title('Plot of Score vs C for different Kernels')\n",
        "plt.xlabel('C')\n",
        "plt.ylabel('Score')\n",
        "plt.legend()\n",
        "plt.grid()\n",
        "plt.show()"
      ],
      "metadata": {
        "colab": {
          "base_uri": "https://localhost:8080/",
          "height": 350
        },
        "id": "qgYCeXqQ6qhd",
        "outputId": "494f3c6c-9f9e-4310-d618-4c6498769a86"
      },
      "execution_count": null,
      "outputs": [
        {
          "output_type": "display_data",
          "data": {
            "text/plain": [
              "<Figure size 576x360 with 1 Axes>"
            ],
            "image/png": "[encoded data removed]"
          },
          "metadata": {
            "needs_background": "light"
          }
        }
      ]
    },
    {
      "cell_type": "markdown",
      "source": [
        "### Predict the classes of test emails using the classifier"
      ],
      "metadata": {
        "id": "9OW21_TeJlc-"
      }
    },
    {
      "cell_type": "code",
      "source": [
        "def get_test_email_dataset():\n",
        "  email_test_df = pd.DataFrame(columns = ['label', 'text'])\n",
        "\n",
        "  test_folder = './test'\n",
        "  if os.path.exists(test_folder) == True :\n",
        "    for root, subdirs, files in os.walk(test_folder):\n",
        "      for filename in files:\n",
        "        file_path = os.path.join(root, filename)\n",
        "\n",
        "        with open(file_path, 'r') as f:\n",
        "          f_content = f.read()\n",
        "          email_test_df.loc[len(email_test_df.index)] = [filename, f_content]\n",
        "  else:\n",
        "    print(\"test folder doesn't exist\")\n",
        "\n",
        "  return email_test_df\n",
        "\n",
        "test_data = get_test_email_dataset()\n",
        "if len(test_data) > 0:\n",
        "  predictions = email_classifier.predict(test_data)\n",
        "  email_file_names = np.array(test_data['label'])\n",
        "  predictions = predictions.astype(np.int32)\n",
        "  for i in range(len(email_file_names)):\n",
        "    print(email_file_names[i], predictions[i])"
      ],
      "metadata": {
        "colab": {
          "base_uri": "https://localhost:8080/"
        },
        "id": "rWVUH0PH5xq1",
        "outputId": "59f7f952-9adb-4a9c-b866-63f6bd154a0d"
      },
      "execution_count": null,
      "outputs": [
        {
          "output_type": "stream",
          "name": "stdout",
          "text": [
            "email1.txt 0\n",
            "email2.txt 1\n"
          ]
        }
      ]
    },
    {
      "cell_type": "code",
      "source": [
        "print(parameters, scores, best_kernel, best_penalty)"
      ],
      "metadata": {
        "colab": {
          "base_uri": "https://localhost:8080/"
        },
        "id": "Eo8sOYrIBQ5N",
        "outputId": "f837e8de-9f14-4526-f1ab-5963571fc9cf"
      },
      "execution_count": null,
      "outputs": [
        {
          "output_type": "stream",
          "name": "stdout",
          "text": [
            "[('linear', 1), ('linear', 2), ('linear', 3), ('linear', 4), ('linear', 5), ('linear', 6), ('linear', 7), ('linear', 8), ('linear', 9), ('linear', 10), ('linear', 11), ('linear', 12), ('linear', 13), ('linear', 14), ('linear', 15), ('linear', 16), ('linear', 17), ('linear', 18), ('linear', 19), ('poly', 1), ('poly', 2), ('poly', 3), ('poly', 4), ('poly', 5), ('poly', 6), ('poly', 7), ('poly', 8), ('poly', 9), ('poly', 10), ('poly', 11), ('poly', 12), ('poly', 13), ('poly', 14), ('poly', 15), ('poly', 16), ('poly', 17), ('poly', 18), ('poly', 19), ('rbf', 1), ('rbf', 2), ('rbf', 3), ('rbf', 4), ('rbf', 5), ('rbf', 6), ('rbf', 7), ('rbf', 8), ('rbf', 9), ('rbf', 10), ('rbf', 11), ('rbf', 12), ('rbf', 13), ('rbf', 14), ('rbf', 15), ('rbf', 16), ('rbf', 17), ('rbf', 18), ('rbf', 19), ('sigmoid', 1), ('sigmoid', 2), ('sigmoid', 3), ('sigmoid', 4), ('sigmoid', 5), ('sigmoid', 6), ('sigmoid', 7), ('sigmoid', 8), ('sigmoid', 9), ('sigmoid', 10), ('sigmoid', 11), ('sigmoid', 12), ('sigmoid', 13), ('sigmoid', 14), ('sigmoid', 15), ('sigmoid', 16), ('sigmoid', 17), ('sigmoid', 18), ('sigmoid', 19)] [0.9879023982818278, 0.9879023982818278, 0.9879023982818278, 0.9879023982818278, 0.9879023982818278, 0.9879023982818278, 0.9879023982818278, 0.9879023982818278, 0.9879023982818278, 0.9879023982818278, 0.9879023982818278, 0.9879023982818278, 0.9879023982818278, 0.9879023982818278, 0.9879023982818278, 0.9879023982818278, 0.9879023982818278, 0.9879023982818278, 0.9879023982818278, 0.8714115260708745, 0.8717599331821978, 0.8734876506383487, 0.8748705405082926, 0.8748693473332538, 0.8752153680944994, 0.875907409616991, 0.8752165612695382, 0.875562582030784, 0.8759074096169908, 0.8759097959670683, 0.8759097959670683, 0.8759097959670683, 0.8766006443145209, 0.8766006443145209, 0.8772926858370124, 0.8779847273595036, 0.8776387065982579, 0.8779847273595036, 0.9502147715069802, 0.9633552082090443, 0.9688879608638586, 0.9747691206299963, 0.9782233623672593, 0.9799498866483713, 0.9802947142345781, 0.9816776041045221, 0.982715666388259, 0.982715666388259, 0.982715666388259, 0.983060493974466, 0.9834065147357117, 0.9834077079107505, 0.9834077079107505, 0.9837537286719963, 0.984099749433242, 0.984099749433242, 0.9840997494332419, 0.9208435747524162, 0.9094284691564253, 0.9014926619735115, 0.9001109652786063, 0.8987268822336236, 0.9063405321560672, 0.8963059300799427, 0.8949254265600765, 0.8949254265600765, 0.8945794057988307, 0.8945794057988307, 0.8942345782126239, 0.8938885574513782, 0.8935425366901326, 0.8935425366901326, 0.8935425366901326, 0.8935425366901326, 0.8938885574513782, 0.8938885574513782] linear 1\n"
          ]
        }
      ]
    }
  ]
}