{
  "nbformat": 4,
  "nbformat_minor": 0,
  "metadata": {
    "colab": {
      "name": "Question_2(iii).ipynb",
      "provenance": [],
      "collapsed_sections": []
    },
    "kernelspec": {
      "name": "python3",
      "display_name": "Python 3"
    },
    "language_info": {
      "name": "python"
    }
  },
  "cells": [
    {
      "cell_type": "markdown",
      "source": [
        "### Least square solution using Stochastic Gradient Descent"
      ],
      "metadata": {
        "id": "SAYXI-XA2IF_"
      }
    },
    {
      "cell_type": "code",
      "execution_count": null,
      "metadata": {
        "id": "ZYYo2_OHijUG"
      },
      "outputs": [],
      "source": [
        "import pandas as pd\n",
        "import numpy as np\n",
        "import matplotlib.pyplot as plt\n",
        "\n",
        "df = pd.read_csv(\"/content/A2Q2Data_train.csv\", header=None);\n",
        "\n",
        "input_data_set = df.iloc[:].values\n",
        "num_data_points = input_data_set.shape[0]\n",
        "num_features = input_data_set.shape[1] - 1\n",
        "\n",
        "feature_dataset = input_data_set[:, :-1] # for all but last column\n",
        "class_label = input_data_set[:, -1] # for last column\n",
        "\n",
        "X = feature_dataset\n",
        "y = class_label\n",
        "\n",
        "XtX = np.matmul(X.T, X)\n",
        "XtX_inverse = np.linalg.inv(XtX)\n",
        "\n",
        "W_ml = np.matmul(np.matmul(XtX_inverse, X.T), y)\n",
        "\n",
        "#from sklearn.metrics import r2_score\n",
        "#y_pred = np.matmul(X,W_ml)\n",
        "#print(r2_score(y, y_pred))"
      ]
    },
    {
      "cell_type": "code",
      "source": [
        "W_diff_all = []\n",
        "W = np.zeros((num_features))\n",
        "lr = 0.001 #learning rate\n",
        "epochs = 90000\n",
        "\n",
        "batch_size = 100\n",
        "\n",
        "X = feature_dataset\n",
        "y = class_label\n",
        "\n",
        "for i in np.arange(epochs):\n",
        "  \n",
        "  random_index = np.random.choice(num_data_points, batch_size, replace=False)\n",
        "  batch_X = X[random_index]\n",
        "  batch_y = y[random_index]\n",
        "\n",
        "  W_diff = W - W_ml\n",
        "  W_diff_all.append(np.sqrt(np.dot(W_diff, W_diff) ))\n",
        "\n",
        "  batch_XtX = np.matmul(batch_X.T, batch_X)\n",
        "\n",
        "  grad_f = (np.matmul(batch_XtX, W) - np.matmul(batch_X.T, batch_y)) / batch_size\n",
        "  \n",
        "  next_W = W - lr * grad_f\n",
        "  W = next_W\n",
        "\n",
        "#print(r2_score(y, np.matmul(X,W)))\n",
        "\n",
        "plt.figure(figsize=(8, 5))\n",
        "plt.title('Plot of || W_t - W_ml || as a function of iterations using SGD.')\n",
        "plt.plot(W_diff_all)\n",
        "plt.xlabel('Iteration #')\n",
        "plt.ylabel('|| W_t - W_ml ||')\n",
        "plt.grid()\n",
        "plt.show()"
      ],
      "metadata": {
        "colab": {
          "base_uri": "https://localhost:8080/",
          "height": 350
        },
        "id": "bt-1Bp61M7sr",
        "outputId": "592f669a-4571-4783-b950-cfabb0d826d3"
      },
      "execution_count": null,
      "outputs": [
        {
          "output_type": "display_data",
          "data": {
            "text/plain": [
              "<Figure size 576x360 with 1 Axes>"
            ],
            "image/png": "[encoded data removed]"
          },
          "metadata": {
            "needs_background": "light"
          }
        }
      ]
    }
  ]
}