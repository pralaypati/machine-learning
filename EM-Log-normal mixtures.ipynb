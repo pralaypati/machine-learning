{
  "nbformat": 4,
  "nbformat_minor": 0,
  "metadata": {
    "colab": {
      "name": "Question_1(i).ipynb",
      "provenance": [],
      "collapsed_sections": []
    },
    "kernelspec": {
      "name": "python3",
      "display_name": "Python 3"
    },
    "language_info": {
      "name": "python"
    }
  },
  "cells": [
    {
      "cell_type": "markdown",
      "source": [
        "### KDE Plot of the input dataset"
      ],
      "metadata": {
        "id": "44Ps3QIjbTpc"
      }
    },
    {
      "cell_type": "code",
      "execution_count": null,
      "metadata": {
        "colab": {
          "base_uri": "https://localhost:8080/",
          "height": 563
        },
        "id": "ZYYo2_OHijUG",
        "outputId": "081341fb-5fbb-4b02-8a48-946f30d2bf5a"
      },
      "outputs": [
        {
          "output_type": "stream",
          "name": "stdout",
          "text": [
            "1000\n"
          ]
        },
        {
          "output_type": "execute_result",
          "data": {
            "text/plain": [
              "<matplotlib.axes._subplots.AxesSubplot at 0x7fe5ecc72090>"
            ]
          },
          "metadata": {},
          "execution_count": 2
        },
        {
          "output_type": "display_data",
          "data": {
            "text/plain": [
              "<Figure size 432x432 with 0 Axes>"
            ]
          },
          "metadata": {}
        },
        {
          "output_type": "display_data",
          "data": {
            "text/plain": [
              "<Figure size 842.4x595.44 with 1 Axes>"
            ],
            "image/png": "[encoded data removed]"
          },
          "metadata": {}
        }
      ],
      "source": [
        "import pandas as pd\n",
        "import numpy as np\n",
        "import matplotlib.pyplot as plt\n",
        "import matplotlib.ticker as ticker\n",
        "import seaborn as sns\n",
        "\n",
        "df = pd.read_csv(\"/content/A2Q1.csv\", names=['x']);\n",
        "\n",
        "#df = df[ df[\"x\"] < 1]\n",
        "input_data_set = df.iloc[:].values\n",
        "num_data_points = input_data_set.shape[0]\n",
        "\n",
        "#data_nums = np.arange(1, num_data_points + 1)\n",
        "data_nums = np.ones((num_data_points,), dtype=int)\n",
        "\n",
        "print(num_data_points)\n",
        "\n",
        "plt.figure(figsize=(6,6))\n",
        "\n",
        "#plt.title(\"Original Data\")\n",
        "#plt.xlabel(\"X\")\n",
        "#plt.ylabel(\"Y\")\n",
        "#plt.hist(df['x'], bins=8, density=False)\n",
        "\n",
        "#plt.grid()\n",
        "#plt.show()\n",
        "\n",
        "sns.set_style(\"whitegrid\")\n",
        "a4_dims = (11.7, 8.27)\n",
        "\n",
        "fig, ax = plt.subplots(figsize=a4_dims)\n",
        "sns.kdeplot(ax=ax, x=(df['x']), cut=0)\n",
        "#ax.yaxis.set_major_locator(ticker.MultipleLocator(0.002))"
      ]
    },
    {
      "cell_type": "markdown",
      "source": [
        "### EM algorithm for log-normal mixtures"
      ],
      "metadata": {
        "id": "TU6KENQR6OhT"
      }
    },
    {
      "cell_type": "code",
      "source": [
        "import pandas as pd\n",
        "import numpy as np\n",
        "import random\n",
        "import matplotlib.pyplot as plt\n",
        "import math\n",
        "\n",
        "class LNMM(object):\n",
        "\n",
        "  def __init__(self, X, cluster_dicts, k):\n",
        "\n",
        "    self.num_data_points = X.shape[0]\n",
        "    #print(self.num_data_points)\n",
        "    self.data = X.copy()\n",
        "    # number of mixtures\n",
        "    self.num_mixtures = k\n",
        "\n",
        "    self.mean_arr = np.zeros(self.num_mixtures)\n",
        "    self.sigma_arr = np.zeros(self.num_mixtures)\n",
        "    self.phi = np.zeros(self.num_mixtures)\n",
        "    self.lambdas = np.empty((self.num_data_points, self.num_mixtures), dtype=float)\n",
        "\n",
        "    for i in range(k):\n",
        "      cluster_points = np.array(cluster_dicts[str(i)])\n",
        "      self.mean_arr[i] = np.mean(cluster_points)\n",
        "      self.sigma_arr[i] = np.var(cluster_points)\n",
        "      self.phi[i] = cluster_points.size / self.num_data_points\n",
        "    \n",
        "  def fit(self, max_iterations):\n",
        "\n",
        "    num_iters = 1\n",
        "    log_likelihood_all = []\n",
        "\n",
        "    while(num_iters <= max_iterations):\n",
        "\n",
        "      previous_log_likelihood = self.get_log_likelihood()\n",
        "      self.e_step()\n",
        "      self.m_step()\n",
        "      num_iters += 1\n",
        "      log_likelihood = self.get_log_likelihood()\n",
        "      log_likelihood_all.append(log_likelihood)\n",
        "\n",
        "    return log_likelihood_all\n",
        "    \n",
        "  def get_log_likelihood(self):\n",
        "\n",
        "    log_likelihood = 0\n",
        "    for i in range(self.num_data_points):\n",
        "      \n",
        "      weighted_prob_sum = 0\n",
        "      for k in range(self.num_mixtures):\n",
        "        \n",
        "        log_normal_dist_denom = math.sqrt(2*math.pi*self.sigma_arr[k])*self.data[i]\n",
        "        log_normal_dist_num = math.exp(-(np.log(self.data[i]) - self.mean_arr[k])**2 /(2*self.sigma_arr[k]) )\n",
        "\n",
        "        weighted_prob = (log_normal_dist_num / log_normal_dist_denom) * self.phi[k]\n",
        "\n",
        "        weighted_prob_sum += weighted_prob\n",
        "      log_likelihood += np.log(weighted_prob_sum) \n",
        "    return log_likelihood\n",
        "        \n",
        "  def e_step(self):\n",
        "\n",
        "    for i in range(self.num_data_points):\n",
        "      den = 0\n",
        "      for k in range(self.num_mixtures):\n",
        "          \n",
        "        log_normal_dist_denom = math.sqrt(2*math.pi*self.sigma_arr[k])*self.data[i]\n",
        "        log_normal_dist_num = math.exp(-(np.log(self.data[i]) - self.mean_arr[k])**2 /(2*self.sigma_arr[k]) )\n",
        "\n",
        "        num = (log_normal_dist_num / log_normal_dist_denom) * self.phi[k]\n",
        "\n",
        "        den += num\n",
        "        self.lambdas[i, k] = num\n",
        "          \n",
        "      self.lambdas[i, :] /= den\n",
        "      \n",
        "      assert self.lambdas[i, :].sum() - 1 < 1e-4\n",
        "            \n",
        "  def m_step(self):\n",
        "    for k in range(self.num_mixtures):\n",
        "      \n",
        "      const = self.lambdas[:, k].sum() #sum i = 1 to n (lambda_k ^ i)\n",
        "      \n",
        "      self.phi[k] = const / self.num_data_points\n",
        "      mu_k = 0\n",
        "      sigma_k = 0\n",
        "      for i in range(self.num_data_points):\n",
        "        mu_k += (np.log(self.data[i]) * self.lambdas[i, k])\n",
        "        sigma_k += self.lambdas[i, k] * ((np.log(self.data[i]) - self.mean_arr[k])**2)\n",
        "\n",
        "      self.mean_arr[k] = mu_k / const\n",
        "      self.sigma_arr[k] = sigma_k / const\n",
        "\n",
        "\n",
        "df = pd.read_csv(\"/content/A2Q1.csv\", header=None)\n",
        "\n",
        "input_data_set = df.iloc[:, :].values\n",
        "\n",
        "num_clusters = 4;\n",
        "num_data_points = input_data_set.shape[0]\n",
        "iterations_per_initialization = 400\n",
        "num_initializations = 100;\n",
        "\n",
        "log_likelihood_all_iter = np.empty((num_initializations, iterations_per_initialization))\n",
        "for init_i in range(num_initializations):\n",
        "\n",
        "  initial_clusters = {} #initial clusters dict\n",
        "  for i in range(num_clusters):\n",
        "    initial_clusters[str(i)] = []\n",
        "\n",
        "  for i in range(num_data_points):\n",
        "    cluster_index = np.random.randint(num_clusters)\n",
        "    initial_clusters[str(cluster_index)].append(input_data_set[i])\n",
        "\n",
        "  lnmm = LNMM(input_data_set, initial_clusters, k=num_clusters)\n",
        "  cur_log_likelihood = lnmm.fit(iterations_per_initialization)\n",
        "  log_likelihood_all_iter[init_i] = np.array(cur_log_likelihood).reshape((1, iterations_per_initialization))\n",
        "  print('Iteration: %d, last log-likelihood: %.6f'%(init_i, cur_log_likelihood[-1]))\n",
        "\n",
        "avg_log_likelihood = np.average(log_likelihood_all_iter, axis = 0) \n",
        "\n",
        "plt.figure(figsize=(8, 5))\n",
        "plt.title('Iterations vs Log likelihood')\n",
        "plt.plot(avg_log_likelihood)\n",
        "plt.xlabel('Iteration #')\n",
        "plt.ylabel('Log likelihood')\n",
        "\n",
        "#plt.grid()\n",
        "plt.show()"
      ],
      "metadata": {
        "colab": {
          "base_uri": "https://localhost:8080/",
          "height": 1000
        },
        "id": "4zMoOzrxb2O_",
        "outputId": "6e0272d4-5c10-4a93-82a5-b8b1c0b3513f"
      },
      "execution_count": null,
      "outputs": [
        {
          "output_type": "stream",
          "name": "stdout",
          "text": [
            "Iteration: 0, last log-likelihood: -2611.656919\n",
            "Iteration: 1, last log-likelihood: -2611.657093\n",
            "Iteration: 2, last log-likelihood: -2594.053178\n",
            "Iteration: 3, last log-likelihood: -2611.657091\n",
            "Iteration: 4, last log-likelihood: -2584.865904\n",
            "Iteration: 5, last log-likelihood: -2611.656964\n",
            "Iteration: 6, last log-likelihood: -2611.657142\n",
            "Iteration: 7, last log-likelihood: -2611.657102\n",
            "Iteration: 8, last log-likelihood: -2611.657135\n",
            "Iteration: 9, last log-likelihood: -2611.657115\n",
            "Iteration: 10, last log-likelihood: -2611.657130\n",
            "Iteration: 11, last log-likelihood: -2611.657072\n",
            "Iteration: 12, last log-likelihood: -2611.657138\n",
            "Iteration: 13, last log-likelihood: -2611.657133\n",
            "Iteration: 14, last log-likelihood: -2596.454523\n",
            "Iteration: 15, last log-likelihood: -2611.657099\n",
            "Iteration: 16, last log-likelihood: -2611.655881\n",
            "Iteration: 17, last log-likelihood: -2611.657127\n",
            "Iteration: 18, last log-likelihood: -2611.657127\n",
            "Iteration: 19, last log-likelihood: -2556.171040\n",
            "Iteration: 20, last log-likelihood: -2611.657041\n",
            "Iteration: 21, last log-likelihood: -2611.656183\n",
            "Iteration: 22, last log-likelihood: -2611.657139\n",
            "Iteration: 23, last log-likelihood: -2611.657120\n",
            "Iteration: 24, last log-likelihood: -2611.656899\n",
            "Iteration: 25, last log-likelihood: -2611.657053\n",
            "Iteration: 26, last log-likelihood: -2611.657142\n",
            "Iteration: 27, last log-likelihood: -2611.657032\n",
            "Iteration: 28, last log-likelihood: -2611.657108\n",
            "Iteration: 29, last log-likelihood: -2611.656766\n",
            "Iteration: 30, last log-likelihood: -2611.657100\n",
            "Iteration: 31, last log-likelihood: -2611.657096\n",
            "Iteration: 32, last log-likelihood: -2611.657023\n",
            "Iteration: 33, last log-likelihood: -2611.657139\n",
            "Iteration: 34, last log-likelihood: -2611.657142\n",
            "Iteration: 35, last log-likelihood: -2611.655973\n",
            "Iteration: 36, last log-likelihood: -2611.657094\n",
            "Iteration: 37, last log-likelihood: -2611.657100\n",
            "Iteration: 38, last log-likelihood: -2611.657100\n",
            "Iteration: 39, last log-likelihood: -2611.657133\n",
            "Iteration: 40, last log-likelihood: -2611.656944\n",
            "Iteration: 41, last log-likelihood: -2611.657081\n",
            "Iteration: 42, last log-likelihood: -2611.650253\n",
            "Iteration: 43, last log-likelihood: -2611.657015\n",
            "Iteration: 44, last log-likelihood: -2611.655340\n",
            "Iteration: 45, last log-likelihood: -2611.640589\n",
            "Iteration: 46, last log-likelihood: -2611.657122\n",
            "Iteration: 47, last log-likelihood: -2556.036984\n",
            "Iteration: 48, last log-likelihood: -2611.655503\n",
            "Iteration: 49, last log-likelihood: -2611.657130\n",
            "Iteration: 50, last log-likelihood: -2611.657137\n",
            "Iteration: 51, last log-likelihood: -2611.657135\n",
            "Iteration: 52, last log-likelihood: -2611.630891\n",
            "Iteration: 53, last log-likelihood: -2611.656995\n",
            "Iteration: 54, last log-likelihood: -2611.657122\n",
            "Iteration: 55, last log-likelihood: -2611.657129\n",
            "Iteration: 56, last log-likelihood: -2611.657142\n",
            "Iteration: 57, last log-likelihood: -2596.301284\n",
            "Iteration: 58, last log-likelihood: -2611.657143\n",
            "Iteration: 59, last log-likelihood: -2611.645038\n",
            "Iteration: 60, last log-likelihood: -2611.657139\n",
            "Iteration: 61, last log-likelihood: -2566.854873\n",
            "Iteration: 62, last log-likelihood: -2611.657140\n",
            "Iteration: 63, last log-likelihood: -2611.645618\n",
            "Iteration: 64, last log-likelihood: -2611.657120\n",
            "Iteration: 65, last log-likelihood: -2611.657001\n",
            "Iteration: 66, last log-likelihood: -2611.657137\n",
            "Iteration: 67, last log-likelihood: -2611.657110\n",
            "Iteration: 68, last log-likelihood: -2611.657143\n",
            "Iteration: 69, last log-likelihood: -2611.657122\n",
            "Iteration: 70, last log-likelihood: -2611.657141\n",
            "Iteration: 71, last log-likelihood: -2611.657133\n",
            "Iteration: 72, last log-likelihood: -2611.657132\n",
            "Iteration: 73, last log-likelihood: -2611.657142\n",
            "Iteration: 74, last log-likelihood: -2611.657136\n",
            "Iteration: 75, last log-likelihood: -2611.657134\n",
            "Iteration: 76, last log-likelihood: -2611.657136\n",
            "Iteration: 77, last log-likelihood: -2611.657141\n",
            "Iteration: 78, last log-likelihood: -2611.657127\n",
            "Iteration: 79, last log-likelihood: -2611.657142\n",
            "Iteration: 80, last log-likelihood: -2611.657137\n",
            "Iteration: 81, last log-likelihood: -2611.654150\n",
            "Iteration: 82, last log-likelihood: -2611.657128\n",
            "Iteration: 83, last log-likelihood: -2611.657140\n",
            "Iteration: 84, last log-likelihood: -2556.295019\n",
            "Iteration: 85, last log-likelihood: -2611.657128\n",
            "Iteration: 86, last log-likelihood: -2611.657139\n",
            "Iteration: 87, last log-likelihood: -2556.281311\n",
            "Iteration: 88, last log-likelihood: -2611.657138\n",
            "Iteration: 89, last log-likelihood: -2611.657107\n",
            "Iteration: 90, last log-likelihood: -2611.657099\n",
            "Iteration: 91, last log-likelihood: -2610.450842\n",
            "Iteration: 92, last log-likelihood: -2611.618928\n",
            "Iteration: 93, last log-likelihood: -2611.657103\n",
            "Iteration: 94, last log-likelihood: -2611.657046\n",
            "Iteration: 95, last log-likelihood: -2611.657082\n",
            "Iteration: 96, last log-likelihood: -2585.995362\n",
            "Iteration: 97, last log-likelihood: -2611.655644\n",
            "Iteration: 98, last log-likelihood: -2611.657138\n",
            "Iteration: 99, last log-likelihood: -2611.657140\n"
          ]
        },
        {
          "output_type": "display_data",
          "data": {
            "text/plain": [
              "<Figure size 576x360 with 1 Axes>"
            ],
            "image/png": "[encoded data removed]"
          },
          "metadata": {}
        }
      ]
    }
  ]
}